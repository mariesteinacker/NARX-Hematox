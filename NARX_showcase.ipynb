{
 "cells": [
  {
   "cell_type": "markdown",
   "id": "34300294-39f7-42b2-84eb-22d9d6811f4f",
   "metadata": {},
   "source": [
    "# Imports"
   ]
  },
  {
   "cell_type": "code",
   "id": "d1f8fb30-3d9d-4a3e-b4f1-29af103afd54",
   "metadata": {
    "ExecuteTime": {
     "end_time": "2024-09-03T13:58:19.423810Z",
     "start_time": "2024-09-03T13:58:17.914210Z"
    }
   },
   "source": [
    "import os\n",
    "import numpy as np\n",
    "import tensorflow as tf\n",
    "from scipy.stats import truncnorm\n",
    "import pandas as pd\n",
    "from tensorflow.keras.losses import MeanSquaredError\n",
    "import math\n",
    "import seaborn as sns\n",
    "from scipy.optimize import minimize\n",
    "import matplotlib.pyplot as plt\n",
    "from friberg import *\n",
    "from utils import *\n",
    "from NARX import *\n",
    "\n",
    "%matplotlib inline\n",
    "from sklearn.preprocessing import StandardScaler, MinMaxScaler,\\\n",
    "    FunctionTransformer"
   ],
   "outputs": [
    {
     "name": "stderr",
     "output_type": "stream",
     "text": [
      "WARNING:root:Limited tf.compat.v2.summary API due to missing TensorBoard installation.\n",
      "WARNING:root:Limited tf.compat.v2.summary API due to missing TensorBoard installation.\n",
      "WARNING:root:Limited tf.compat.v2.summary API due to missing TensorBoard installation.\n",
      "WARNING:root:Limited tf.summary API due to missing TensorBoard installation.\n",
      "WARNING:root:Limited tf.compat.v2.summary API due to missing TensorBoard installation.\n",
      "WARNING:root:Limited tf.compat.v2.summary API due to missing TensorBoard installation.\n",
      "WARNING:root:Limited tf.compat.v2.summary API due to missing TensorBoard installation.\n"
     ]
    }
   ],
   "execution_count": 1
  },
  {
   "cell_type": "code",
   "id": "75da5703-0e31-48a1-aa8f-a7ca3503bfb4",
   "metadata": {
    "ExecuteTime": {
     "end_time": "2024-09-03T13:58:19.563240Z",
     "start_time": "2024-09-03T13:58:19.555850Z"
    }
   },
   "source": [
    "# helper function\n",
    "log_transformer = FunctionTransformer(np.log10,\n",
    "                                      inverse_func=lambda x: 10.**x,\n",
    "                                      validate=True, check_inverse=True)"
   ],
   "outputs": [],
   "execution_count": 2
  },
  {
   "cell_type": "markdown",
   "id": "95552d68-0033-448d-950f-7e547f89b90b",
   "metadata": {},
   "source": [
    "# Simulate patient time series"
   ]
  },
  {
   "cell_type": "markdown",
   "id": "a7d83181-50aa-4ada-8e2f-20d5f6870e07",
   "metadata": {},
   "source": [
    "We here create a simulated patient time series with the Friberg model, to showcase NARX learning and modeling. "
   ]
  },
  {
   "cell_type": "markdown",
   "id": "aa4368f4-5000-462d-a541-dd2c83115126",
   "metadata": {},
   "source": [
    "## draw randomly from friberg population parameters"
   ]
  },
  {
   "cell_type": "code",
   "id": "0c2bf566-8c01-4c52-a2db-4e29e56ec51b",
   "metadata": {},
   "source": [
    "p0 = np.array([0.316, 195, 2., 270.])    # (gamma, MTT in h, slope, c0 in cells/(l * 10^9))\n",
    "pop_params = p0\n",
    "bounds = [(0.05, 0.45), (20, 350), (1., 5),\n",
    "              (25, 450)]"
   ],
   "outputs": [],
   "execution_count": 3
  },
  {
   "cell_type": "code",
   "id": "c6c3e1fc-9a42-483c-97d6-f987d00ea164",
   "metadata": {
    "ExecuteTime": {
     "end_time": "2024-09-03T13:58:19.160565Z",
     "start_time": "2024-09-03T13:58:19.157338Z"
    }
   },
   "source": [
    "lower = [x[0] for x in bounds]\n",
    "upper = [x[1] for x in bounds]\n",
    "mu, sigma = p0, 0.2 * p0\n",
    "pat_p = truncnorm.rvs(\n",
    "    (lower - mu) / sigma, (upper - mu) / sigma, loc=mu, scale=sigma, random_state=0)"
   ],
   "outputs": [],
   "execution_count": 4
  },
  {
   "cell_type": "code",
   "id": "e61a732c-ec14-4c40-885b-b896443ea586",
   "metadata": {
    "ExecuteTime": {
     "end_time": "2024-09-03T13:58:19.222146Z",
     "start_time": "2024-09-03T13:58:19.219065Z"
    }
   },
   "source": [
    "# friberg parameters to simulate patient: gamma, MTT in h, slope, c0 in cells/(l * 10^9)\n",
    "pat_p"
   ],
   "outputs": [
    {
     "data": {
      "text/plain": [
       "array([  0.3222668 , 217.17298364,   2.10676328, 276.05649911])"
      ]
     },
     "execution_count": 5,
     "metadata": {},
     "output_type": "execute_result"
    }
   ],
   "execution_count": 5
  },
  {
   "cell_type": "markdown",
   "id": "244e346e-ae67-4c95-87a6-99895fe42618",
   "metadata": {},
   "source": [
    "## generate generic treatment\n",
    "We simulate 6 rounds of a 21d treatment with the same dose each time. This is how six rounds of a CHOP-21 treatment is simulated in our publication."
   ]
  },
  {
   "cell_type": "code",
   "id": "1fe28d67-9dde-4285-bcde-459a54792262",
   "metadata": {
    "ExecuteTime": {
     "end_time": "2024-09-03T13:58:19.275978Z",
     "start_time": "2024-09-03T13:58:19.274736Z"
    }
   },
   "source": [
    "therapy = (np.arange(0,6)*21, np.ones(6))    # (days, dosage)"
   ],
   "outputs": [],
   "execution_count": 6
  },
  {
   "cell_type": "markdown",
   "id": "f829b854-4e67-4a50-a409-046e63e03e06",
   "metadata": {},
   "source": [
    "Measurement times are specified to be every 4 days"
   ]
  },
  {
   "cell_type": "code",
   "id": "f98e219b-989e-4c50-9004-446743a20267",
   "metadata": {
    "ExecuteTime": {
     "end_time": "2024-09-03T13:58:19.324860Z",
     "start_time": "2024-09-03T13:58:19.323748Z"
    }
   },
   "source": [
    "t_arr = np.arange(0, 6*21)[::4]\n",
    "t = np.arange(0,t_arr[-1] + 1)"
   ],
   "outputs": [],
   "execution_count": 7
  },
  {
   "cell_type": "markdown",
   "id": "212b11a8-d9b1-415d-945e-c1db6d2babd4",
   "metadata": {},
   "source": [
    "## generate patient time series with friberg model"
   ]
  },
  {
   "cell_type": "code",
   "id": "7edb8f0c-1c7c-4695-a65e-1e66f6b2dd1b",
   "metadata": {
    "ExecuteTime": {
     "end_time": "2024-09-03T13:58:19.458486Z",
     "start_time": "2024-09-03T13:58:19.370136Z"
    }
   },
   "source": [
    "y_raw = friberg(pat_p, t_arr, therapy) # simulated observations\n",
    "y_o = friberg(pat_p, t.astype(int), therapy) # friberg time series for 1 day time steps"
   ],
   "outputs": [],
   "execution_count": 8
  },
  {
   "cell_type": "code",
   "id": "32466c08-88a5-4fb2-9dc6-716769cc9439",
   "metadata": {
    "ExecuteTime": {
     "end_time": "2024-09-03T13:58:19.657739Z",
     "start_time": "2024-09-03T13:58:19.471874Z"
    }
   },
   "source": [
    "plt.plot(t, y_o, c='r', label='Friberg')\n",
    "plt.plot(t_arr, y_raw, ls='', marker='o', label='Observation times')\n",
    "plt.legend()\n",
    "plt.grid(True)"
   ],
   "outputs": [
    {
     "data": {
      "image/png": "[encoded data removed]",
      "text/plain": [
       "<Figure size 432x288 with 1 Axes>"
      ]
     },
     "metadata": {
      "needs_background": "light"
     },
     "output_type": "display_data"
    }
   ],
   "execution_count": 9
  },
  {
   "cell_type": "markdown",
   "id": "9b949580-8936-4383-93c3-b04d437f154f",
   "metadata": {},
   "source": [
    "## add noise and cumulative toxicity\n",
    "To showcase transfer learning, we add noise and a cumulative toxicity pattern, so our simulated patient is composed of a pattern originating from the Friberg model and an individual pattern. As this is just a demonstration of our NARX modeling, we do not claim this to be a good representation of a real patient."
   ]
  },
  {
   "cell_type": "code",
   "id": "79119be0-5b8f-47fd-9b6c-9740912439ea",
   "metadata": {
    "ExecuteTime": {
     "end_time": "2024-09-03T13:58:19.678728Z",
     "start_time": "2024-09-03T13:58:19.675172Z"
    }
   },
   "source": [
    "noise = 0.1\n",
    "rng = np.random.default_rng(seed=0)\n",
    "noise_std = y_raw * noise\n",
    "noise_add = np.array([rng.normal(0, noise_std[j], 1) for j in range(len(y_raw))]).flatten()\n",
    "y_arr = (y_raw + noise_add)-(1-np.exp(-np.linspace(0,1, t_arr[-1]+1))[t_arr]) * y_raw[0] * 0.5"
   ],
   "outputs": [],
   "execution_count": 10
  },
  {
   "cell_type": "markdown",
   "id": "2ee53878-2df8-499c-a042-06ef9f73610a",
   "metadata": {},
   "source": [
    "For comparison, we include NCI thrombocytopenia degrees (TD) in the plot."
   ]
  },
  {
   "cell_type": "code",
   "id": "997e295f-15dd-408c-ba5c-d43adad887b5",
   "metadata": {
    "ExecuteTime": {
     "end_time": "2024-09-03T13:58:19.854918Z",
     "start_time": "2024-09-03T13:58:19.728409Z"
    }
   },
   "source": [
    "plt.figure(figsize=(8,6))\n",
    "plt.plot(t, y_o, c='r', label='Friberg original')\n",
    "plt.plot(t_arr, y_arr, c='k', ls='', marker='o', label='Observed simulated patient')\n",
    "colors = sns.color_palette('flare', 4)\n",
    "plt.axhline(1.5*10**11, zorder=1, c=colors[0], label='TD 1', ls=':')\n",
    "plt.axhline(7.5 * 10**10, zorder=1, c=colors[1], label='TD 2',  ls=':')\n",
    "plt.axhline(5 * 10**10, zorder=1, c=colors[2], label='TD 3',  ls=':')\n",
    "plt.axhline(2.5 * 10**10, zorder=1, c=colors[3], label='TD 4',  ls=':')\n",
    "plt.legend()\n",
    "plt.grid(True)"
   ],
   "outputs": [
    {
     "data": {
      "image/png": "[encoded data removed]",
      "text/plain": [
       "<Figure size 576x432 with 1 Axes>"
      ]
     },
     "metadata": {
      "needs_background": "light"
     },
     "output_type": "display_data"
    }
   ],
   "execution_count": 11
  },
  {
   "cell_type": "markdown",
   "id": "e1326828-29fc-4f8b-879e-ef3a25c59757",
   "metadata": {},
   "source": [
    "## simulated patient dataset\n",
    "Finally, we create a pandas dataframe to handle the data of the simulated patient easier. We add the cycle number to the observations."
   ]
  },
  {
   "cell_type": "code",
   "id": "680aa5ff-ef34-4e21-8b51-d36227e49a93",
   "metadata": {
    "ExecuteTime": {
     "end_time": "2024-09-03T13:58:19.871524Z",
     "start_time": "2024-09-03T13:58:19.870520Z"
    }
   },
   "source": [
    "pcycle = np.outer(np.arange(1,7), np.ones((21,1))).flatten()[::4]"
   ],
   "outputs": [],
   "execution_count": 12
  },
  {
   "cell_type": "code",
   "id": "5ecb98b2-5a3e-47ad-89f2-1416f2669435",
   "metadata": {
    "ExecuteTime": {
     "end_time": "2024-09-03T13:58:19.918779Z",
     "start_time": "2024-09-03T13:58:19.917462Z"
    }
   },
   "source": [
    "df_p = pd.DataFrame(np.array([y_arr/10**9, t_arr, pcycle]).T, columns=['Y', 'TIME', 'CYCLE'])"
   ],
   "outputs": [],
   "execution_count": 13
  },
  {
   "cell_type": "code",
   "id": "159155e3-4fa3-47a6-9b5f-878c67821e23",
   "metadata": {
    "ExecuteTime": {
     "end_time": "2024-09-03T13:58:19.984581Z",
     "start_time": "2024-09-03T13:58:19.975714Z"
    }
   },
   "source": [
    "# final dataset\n",
    "df_p"
   ],
   "outputs": [
    {
     "data": {
      "text/html": [
       "<div>\n",
       "<style scoped>\n",
       "    .dataframe tbody tr th:only-of-type {\n",
       "        vertical-align: middle;\n",
       "    }\n",
       "\n",
       "    .dataframe tbody tr th {\n",
       "        vertical-align: top;\n",
       "    }\n",
       "\n",
       "    .dataframe thead th {\n",
       "        text-align: right;\n",
       "    }\n",
       "</style>\n",
       "<table border=\"1\" class=\"dataframe\">\n",
       "  <thead>\n",
       "    <tr style=\"text-align: right;\">\n",
       "      <th></th>\n",
       "      <th>Y</th>\n",
       "      <th>TIME</th>\n",
       "      <th>CYCLE</th>\n",
       "    </tr>\n",
       "  </thead>\n",
       "  <tbody>\n",
       "    <tr>\n",
       "      <th>0</th>\n",
       "      <td>279.527364</td>\n",
       "      <td>0.0</td>\n",
       "      <td>1.0</td>\n",
       "    </tr>\n",
       "    <tr>\n",
       "      <th>1</th>\n",
       "      <td>255.490438</td>\n",
       "      <td>4.0</td>\n",
       "      <td>1.0</td>\n",
       "    </tr>\n",
       "    <tr>\n",
       "      <th>2</th>\n",
       "      <td>210.514885</td>\n",
       "      <td>8.0</td>\n",
       "      <td>1.0</td>\n",
       "    </tr>\n",
       "    <tr>\n",
       "      <th>3</th>\n",
       "      <td>146.082293</td>\n",
       "      <td>12.0</td>\n",
       "      <td>1.0</td>\n",
       "    </tr>\n",
       "    <tr>\n",
       "      <th>4</th>\n",
       "      <td>121.289745</td>\n",
       "      <td>16.0</td>\n",
       "      <td>1.0</td>\n",
       "    </tr>\n",
       "    <tr>\n",
       "      <th>5</th>\n",
       "      <td>159.942264</td>\n",
       "      <td>20.0</td>\n",
       "      <td>1.0</td>\n",
       "    </tr>\n",
       "    <tr>\n",
       "      <th>6</th>\n",
       "      <td>236.319156</td>\n",
       "      <td>24.0</td>\n",
       "      <td>2.0</td>\n",
       "    </tr>\n",
       "    <tr>\n",
       "      <th>7</th>\n",
       "      <td>224.924043</td>\n",
       "      <td>28.0</td>\n",
       "      <td>2.0</td>\n",
       "    </tr>\n",
       "    <tr>\n",
       "      <th>8</th>\n",
       "      <td>153.462683</td>\n",
       "      <td>32.0</td>\n",
       "      <td>2.0</td>\n",
       "    </tr>\n",
       "    <tr>\n",
       "      <th>9</th>\n",
       "      <td>128.070851</td>\n",
       "      <td>36.0</td>\n",
       "      <td>2.0</td>\n",
       "    </tr>\n",
       "    <tr>\n",
       "      <th>10</th>\n",
       "      <td>151.599927</td>\n",
       "      <td>40.0</td>\n",
       "      <td>2.0</td>\n",
       "    </tr>\n",
       "    <tr>\n",
       "      <th>11</th>\n",
       "      <td>198.942730</td>\n",
       "      <td>44.0</td>\n",
       "      <td>3.0</td>\n",
       "    </tr>\n",
       "    <tr>\n",
       "      <th>12</th>\n",
       "      <td>137.727824</td>\n",
       "      <td>48.0</td>\n",
       "      <td>3.0</td>\n",
       "    </tr>\n",
       "    <tr>\n",
       "      <th>13</th>\n",
       "      <td>142.792851</td>\n",
       "      <td>52.0</td>\n",
       "      <td>3.0</td>\n",
       "    </tr>\n",
       "    <tr>\n",
       "      <th>14</th>\n",
       "      <td>98.704780</td>\n",
       "      <td>56.0</td>\n",
       "      <td>3.0</td>\n",
       "    </tr>\n",
       "    <tr>\n",
       "      <th>15</th>\n",
       "      <td>112.932406</td>\n",
       "      <td>60.0</td>\n",
       "      <td>3.0</td>\n",
       "    </tr>\n",
       "    <tr>\n",
       "      <th>16</th>\n",
       "      <td>150.693107</td>\n",
       "      <td>64.0</td>\n",
       "      <td>4.0</td>\n",
       "    </tr>\n",
       "    <tr>\n",
       "      <th>17</th>\n",
       "      <td>176.213165</td>\n",
       "      <td>68.0</td>\n",
       "      <td>4.0</td>\n",
       "    </tr>\n",
       "    <tr>\n",
       "      <th>18</th>\n",
       "      <td>155.695032</td>\n",
       "      <td>72.0</td>\n",
       "      <td>4.0</td>\n",
       "    </tr>\n",
       "    <tr>\n",
       "      <th>19</th>\n",
       "      <td>134.305987</td>\n",
       "      <td>76.0</td>\n",
       "      <td>4.0</td>\n",
       "    </tr>\n",
       "    <tr>\n",
       "      <th>20</th>\n",
       "      <td>112.301220</td>\n",
       "      <td>80.0</td>\n",
       "      <td>4.0</td>\n",
       "    </tr>\n",
       "    <tr>\n",
       "      <th>21</th>\n",
       "      <td>172.263270</td>\n",
       "      <td>84.0</td>\n",
       "      <td>5.0</td>\n",
       "    </tr>\n",
       "    <tr>\n",
       "      <th>22</th>\n",
       "      <td>158.847785</td>\n",
       "      <td>88.0</td>\n",
       "      <td>5.0</td>\n",
       "    </tr>\n",
       "    <tr>\n",
       "      <th>23</th>\n",
       "      <td>152.910613</td>\n",
       "      <td>92.0</td>\n",
       "      <td>5.0</td>\n",
       "    </tr>\n",
       "    <tr>\n",
       "      <th>24</th>\n",
       "      <td>123.647036</td>\n",
       "      <td>96.0</td>\n",
       "      <td>5.0</td>\n",
       "    </tr>\n",
       "    <tr>\n",
       "      <th>25</th>\n",
       "      <td>99.632905</td>\n",
       "      <td>100.0</td>\n",
       "      <td>5.0</td>\n",
       "    </tr>\n",
       "    <tr>\n",
       "      <th>26</th>\n",
       "      <td>105.624847</td>\n",
       "      <td>104.0</td>\n",
       "      <td>5.0</td>\n",
       "    </tr>\n",
       "    <tr>\n",
       "      <th>27</th>\n",
       "      <td>138.367573</td>\n",
       "      <td>108.0</td>\n",
       "      <td>6.0</td>\n",
       "    </tr>\n",
       "    <tr>\n",
       "      <th>28</th>\n",
       "      <td>135.342712</td>\n",
       "      <td>112.0</td>\n",
       "      <td>6.0</td>\n",
       "    </tr>\n",
       "    <tr>\n",
       "      <th>29</th>\n",
       "      <td>109.260802</td>\n",
       "      <td>116.0</td>\n",
       "      <td>6.0</td>\n",
       "    </tr>\n",
       "    <tr>\n",
       "      <th>30</th>\n",
       "      <td>70.866869</td>\n",
       "      <td>120.0</td>\n",
       "      <td>6.0</td>\n",
       "    </tr>\n",
       "    <tr>\n",
       "      <th>31</th>\n",
       "      <td>99.707245</td>\n",
       "      <td>124.0</td>\n",
       "      <td>6.0</td>\n",
       "    </tr>\n",
       "  </tbody>\n",
       "</table>\n",
       "</div>"
      ],
      "text/plain": [
       "             Y   TIME  CYCLE\n",
       "0   279.527364    0.0    1.0\n",
       "1   255.490438    4.0    1.0\n",
       "2   210.514885    8.0    1.0\n",
       "3   146.082293   12.0    1.0\n",
       "4   121.289745   16.0    1.0\n",
       "5   159.942264   20.0    1.0\n",
       "6   236.319156   24.0    2.0\n",
       "7   224.924043   28.0    2.0\n",
       "8   153.462683   32.0    2.0\n",
       "9   128.070851   36.0    2.0\n",
       "10  151.599927   40.0    2.0\n",
       "11  198.942730   44.0    3.0\n",
       "12  137.727824   48.0    3.0\n",
       "13  142.792851   52.0    3.0\n",
       "14   98.704780   56.0    3.0\n",
       "15  112.932406   60.0    3.0\n",
       "16  150.693107   64.0    4.0\n",
       "17  176.213165   68.0    4.0\n",
       "18  155.695032   72.0    4.0\n",
       "19  134.305987   76.0    4.0\n",
       "20  112.301220   80.0    4.0\n",
       "21  172.263270   84.0    5.0\n",
       "22  158.847785   88.0    5.0\n",
       "23  152.910613   92.0    5.0\n",
       "24  123.647036   96.0    5.0\n",
       "25   99.632905  100.0    5.0\n",
       "26  105.624847  104.0    5.0\n",
       "27  138.367573  108.0    6.0\n",
       "28  135.342712  112.0    6.0\n",
       "29  109.260802  116.0    6.0\n",
       "30   70.866869  120.0    6.0\n",
       "31   99.707245  124.0    6.0"
      ]
     },
     "execution_count": 14,
     "metadata": {},
     "output_type": "execute_result"
    }
   ],
   "execution_count": 14
  },
  {
   "cell_type": "markdown",
   "id": "2d34b776-0986-4e9a-b6e7-b9c32d67dbae",
   "metadata": {
    "tags": []
   },
   "source": [
    "## define learning scenario\n",
    "Here, we define the learning scenario, how many cycles are available for learning. We use a dictionary which supplies all necessary information to the NARX model, later."
   ]
  },
  {
   "cell_type": "code",
   "id": "7073cf4f-b2bd-414c-a6eb-ef7e3fafbccd",
   "metadata": {
    "ExecuteTime": {
     "end_time": "2024-09-03T13:58:20.451880Z",
     "start_time": "2024-09-03T13:58:20.442740Z"
    }
   },
   "source": [
    "hp = {'cycle': 4}"
   ],
   "outputs": [],
   "execution_count": 15
  },
  {
   "cell_type": "markdown",
   "id": "685f007b-33e0-4c81-a989-61444d288fb4",
   "metadata": {},
   "source": [
    "We create a dataframe of only the data used for learning."
   ]
  },
  {
   "cell_type": "code",
   "id": "62234c84-de57-4b27-8d3e-ad3ff1bc957b",
   "metadata": {
    "ExecuteTime": {
     "end_time": "2024-09-03T13:58:20.919190Z",
     "start_time": "2024-09-03T13:58:20.896740Z"
    }
   },
   "source": [
    "t = np.arange(0, t_arr[-1] + 1, 1)\n",
    "# get cycle data\n",
    "df_p1_c = df_p[df_p['CYCLE'] <= hp['cycle']]\n",
    "cycle = int(df_p1_c['CYCLE'].max())\n",
    "t_c = df_p1_c['TIME'].to_numpy().astype(int)\n",
    "y_arr_c = df_p1_c['Y'].to_numpy() * 10 ** 9"
   ],
   "outputs": [],
   "execution_count": 16
  },
  {
   "cell_type": "code",
   "id": "4824473d-7565-4225-8046-ad0d01671582",
   "metadata": {
    "ExecuteTime": {
     "end_time": "2024-09-03T13:58:20.174436Z",
     "start_time": "2024-09-03T13:58:20.173692Z"
    }
   },
   "source": [
    "therapies_c = (therapy[0][:cycle], therapy[1][:cycle])"
   ],
   "outputs": [],
   "execution_count": 17
  },
  {
   "cell_type": "markdown",
   "id": "ffc86f07-7e06-4374-a05e-8d4a5aa257a0",
   "metadata": {
    "tags": []
   },
   "source": [
    "# Friberg calibration\n",
    "For transfer learning and comparison, we calibrate the Friberg model to the simulated individual data. "
   ]
  },
  {
   "cell_type": "code",
   "id": "dc51231b-caea-4818-b1a5-aa0aae6da1f5",
   "metadata": {
    "ExecuteTime": {
     "end_time": "2024-09-03T13:58:25.229426Z",
     "start_time": "2024-09-03T13:58:20.250513Z"
    }
   },
   "source": [
    "res = minimize(poplog_fit_friberg_mse, p0,\n",
    "                   args=(pop_params, y_arr_c, t_c, therapies_c),\n",
    "                   bounds=bounds,\n",
    "                   method='Nelder-Mead', tol=10 ** -2)"
   ],
   "outputs": [],
   "execution_count": 18
  },
  {
   "cell_type": "code",
   "id": "721bb455-d9b3-4635-8224-8ea429565ddd",
   "metadata": {
    "ExecuteTime": {
     "end_time": "2024-09-03T13:58:25.295027Z",
     "start_time": "2024-09-03T13:58:25.241506Z"
    }
   },
   "source": [
    "pc = res.x\n",
    "y_fri = friberg(pc, t.astype(int), therapy)"
   ],
   "outputs": [],
   "execution_count": 19
  },
  {
   "cell_type": "code",
   "id": "ec709a01-33c0-4978-b977-616dda363d9b",
   "metadata": {
    "jp-MarkdownHeadingCollapsed": true,
    "tags": [],
    "ExecuteTime": {
     "end_time": "2024-09-03T13:58:25.314636Z",
     "start_time": "2024-09-03T13:58:25.313317Z"
    }
   },
   "source": [
    "# calibrated friberg parameters\n",
    "pc"
   ],
   "outputs": [
    {
     "data": {
      "text/plain": [
       "array([  0.29494076, 200.91384868,   2.18593799, 232.49929285])"
      ]
     },
     "execution_count": 20,
     "metadata": {},
     "output_type": "execute_result"
    }
   ],
   "execution_count": 20
  },
  {
   "cell_type": "code",
   "id": "c0acec83-2df0-44cc-92f1-7e5b417d7493",
   "metadata": {
    "ExecuteTime": {
     "end_time": "2024-09-03T13:58:25.511778Z",
     "start_time": "2024-09-03T13:58:25.379604Z"
    }
   },
   "source": [
    "plt.plot(t, y_fri, label='Friberg')\n",
    "plt.plot(t_arr, y_arr, c='k', ls='', marker='o', label='Observed')\n",
    "plt.axvline(t_c[-1] +1, c='k', ls='--', label='train split')\n",
    "plt.legend()\n",
    "plt.grid(True)"
   ],
   "outputs": [
    {
     "data": {
      "image/png": "[encoded data removed]",
      "text/plain": [
       "<Figure size 432x288 with 1 Axes>"
      ]
     },
     "metadata": {
      "needs_background": "light"
     },
     "output_type": "display_data"
    }
   ],
   "execution_count": 21
  },
  {
   "cell_type": "markdown",
   "id": "5f1209ac-fbce-4eb6-b7f2-d9039732aba1",
   "metadata": {},
   "source": [
    "# NARX modeling"
   ]
  },
  {
   "cell_type": "markdown",
   "id": "1575fabc-3007-49f6-9668-91b91cb5cec8",
   "metadata": {
    "tags": []
   },
   "source": [
    "We define the dictionary which includes all relevant info and configuration for our NARX model."
   ]
  },
  {
   "cell_type": "code",
   "id": "a6342418-3da6-420b-a093-2199ac7a4075",
   "metadata": {
    "ExecuteTime": {
     "end_time": "2024-09-03T13:58:25.533210Z",
     "start_time": "2024-09-03T13:58:25.530812Z"
    }
   },
   "source": [
    "hp.update({\n",
    "    'seed': 0,\n",
    "    # network configurations\n",
    "    # configuration for FNN memory\n",
    "    'xlag': 28,\n",
    "    'ylag': 21,\n",
    "    # length of initial steady state, needs to be == max(xlag, ylag)\n",
    "    'lag': 28,\n",
    "    # size of hidden layer\n",
    "    'units': 64, # for GRU:64, for FNN: 4\n",
    "    'activation': 'sigmoid',\n",
    "    # activation output layer, should be linear\n",
    "    'out_act': 'linear',\n",
    "    'in_bias': True,  # bias term for input\n",
    "    'out_bias': False, # bias term for output\n",
    "    'pre-training': True, # with or without transfer learning\n",
    "    'index': True, # if index patient should be used, only for transfer learning\n",
    "    'step_mse': True, # if step_mse is used for learning\n",
    "    # which type of network is created\n",
    "    'celltype': 'GRU', # change to 'FNN' or 'GRU'\n",
    "    'es': True, # if exponential smoothing is used for FNN\n",
    "    # scaling ranges for data\n",
    "    'scale_range_lower': [-1, -0.5],\n",
    "    'scale_range_upper': [0.5, 1.5],\n",
    "    # sclaling lower and upper\n",
    "    '4degree': 25 * 10 ** 9,\n",
    "    'normal': 300 * 10 ** 9,\n",
    "    # parameters for regularization and smoothing\n",
    "    'k': 2,\n",
    "    'c': 10 ** -2,\n",
    "    's': 1.,\n",
    "    'alpha': 10 ** -3,\n",
    "    'delta': 0.007,\n",
    "    'lp': 0.0001,\n",
    "    'in_dr': 0., # for no ptr: 0.05,\n",
    "    're_dr': 0., # for no ptr: 0.1,\n",
    "    'out_dr': 0.,\n",
    "    'ker_l2': 0.,\n",
    "    're_l2': 0.,\n",
    "    'out_l2': 0.01,\n",
    "    's_train': 0.1,\n",
    "    'stddev_ft': 0.2,\n",
    "    'stddev': 0.,\n",
    "    # fit configuration for early stopping\n",
    "    'patience': 250,\n",
    "    'max_epochs': 10200,\n",
    "    'min_delta_fri': 10 ** -4,\n",
    "    'min_delta_ft': 10 ** -5, \n",
    "    'min_delta_ptr': 10 ** -4,\n",
    "    'av_epochs': 20,\n",
    "    # learning rates\n",
    "    'lr': 0.01,\n",
    "    'lr_ft': 0.001,\n",
    "      })"
   ],
   "outputs": [],
   "execution_count": 22
  },
  {
   "cell_type": "markdown",
   "id": "d8984c80-20c3-4c6f-a0ee-1449c7bc8463",
   "metadata": {},
   "source": [
    "## load index patient weights\n",
    "The index patient is also a simulated patient, which represents the population average parameters of the friberg model. Beginning here for transfer learning speeds up the training process immensely."
   ]
  },
  {
   "cell_type": "code",
   "id": "3f90df2f-b2cc-4727-a0f1-a8e326ed4a46",
   "metadata": {
    "ExecuteTime": {
     "end_time": "2024-09-03T13:58:25.584107Z",
     "start_time": "2024-09-03T13:58:25.582604Z"
    }
   },
   "source": [
    "index_path = os.path.join('.', f'index_weights_{hp[\"celltype\"]}.h5')"
   ],
   "outputs": [],
   "execution_count": 23
  },
  {
   "cell_type": "code",
   "id": "5a71f4d6-270f-4dc7-bbc7-5fbbb0e0cc0e",
   "metadata": {
    "ExecuteTime": {
     "end_time": "2024-09-03T13:58:25.630832Z",
     "start_time": "2024-09-03T13:58:25.630097Z"
    }
   },
   "source": [
    "hp['index_path']= index_path"
   ],
   "outputs": [],
   "execution_count": 24
  },
  {
   "cell_type": "markdown",
   "id": "8927529a-e957-43a0-90d5-81ddca9f02fa",
   "metadata": {},
   "source": [
    "## prepare data for NARX"
   ]
  },
  {
   "cell_type": "code",
   "id": "1ba26e32-6e10-49f0-bd32-b514d175f121",
   "metadata": {
    "ExecuteTime": {
     "end_time": "2024-09-03T13:58:25.679304Z",
     "start_time": "2024-09-03T13:58:25.677572Z"
    }
   },
   "source": [
    "from tensorflow.python.ops.numpy_ops import np_config\n",
    "np_config.enable_numpy_behavior()\n",
    "tf.keras.utils.set_random_seed(\n",
    "    hp['seed']\n",
    ")"
   ],
   "outputs": [],
   "execution_count": 25
  },
  {
   "cell_type": "code",
   "id": "2b7e5786-1a02-443d-8a16-d4e09729f2a4",
   "metadata": {
    "ExecuteTime": {
     "end_time": "2024-09-03T13:58:25.724096Z",
     "start_time": "2024-09-03T13:58:25.723472Z"
    }
   },
   "source": [
    "xlag = hp['xlag']\n",
    "ylag = hp['ylag']"
   ],
   "outputs": [],
   "execution_count": 26
  },
  {
   "cell_type": "markdown",
   "id": "898713b7-50f0-4bb7-8a16-52214affa4f6",
   "metadata": {},
   "source": [
    "### scale data"
   ]
  },
  {
   "cell_type": "code",
   "id": "0393db42-4aec-405d-a560-9fc74182656d",
   "metadata": {
    "ExecuteTime": {
     "end_time": "2024-09-03T13:58:25.782363Z",
     "start_time": "2024-09-03T13:58:25.779042Z"
    }
   },
   "source": [
    "if hp['celltype']=='FNN':\n",
    "    lower = hp['scale_range_lower'][0]\n",
    "    upper = hp['scale_range_upper'][1]\n",
    "else:\n",
    "    lower = hp['scale_range_lower'][1]\n",
    "    upper = hp['scale_range_upper'][0]\n",
    "\n",
    "scalery_gen = MinMaxScaler(feature_range=(lower, upper))\n",
    "# scale like neutropenia degree\n",
    "scalery_gen.fit(log_transformer.transform(\n",
    "    np.array([hp['4degree'], hp['normal']]).reshape(-1, 1)))"
   ],
   "outputs": [
    {
     "data": {
      "text/html": [
       "<style>#sk-container-id-1 {\n",
       "  /* Definition of color scheme common for light and dark mode */\n",
       "  --sklearn-color-text: black;\n",
       "  --sklearn-color-line: gray;\n",
       "  /* Definition of color scheme for unfitted estimators */\n",
       "  --sklearn-color-unfitted-level-0: #fff5e6;\n",
       "  --sklearn-color-unfitted-level-1: #f6e4d2;\n",
       "  --sklearn-color-unfitted-level-2: #ffe0b3;\n",
       "  --sklearn-color-unfitted-level-3: chocolate;\n",
       "  /* Definition of color scheme for fitted estimators */\n",
       "  --sklearn-color-fitted-level-0: #f0f8ff;\n",
       "  --sklearn-color-fitted-level-1: #d4ebff;\n",
       "  --sklearn-color-fitted-level-2: #b3dbfd;\n",
       "  --sklearn-color-fitted-level-3: cornflowerblue;\n",
       "\n",
       "  /* Specific color for light theme */\n",
       "  --sklearn-color-text-on-default-background: var(--sg-text-color, var(--theme-code-foreground, var(--jp-content-font-color1, black)));\n",
       "  --sklearn-color-background: var(--sg-background-color, var(--theme-background, var(--jp-layout-color0, white)));\n",
       "  --sklearn-color-border-box: var(--sg-text-color, var(--theme-code-foreground, var(--jp-content-font-color1, black)));\n",
       "  --sklearn-color-icon: #696969;\n",
       "\n",
       "  @media (prefers-color-scheme: dark) {\n",
       "    /* Redefinition of color scheme for dark theme */\n",
       "    --sklearn-color-text-on-default-background: var(--sg-text-color, var(--theme-code-foreground, var(--jp-content-font-color1, white)));\n",
       "    --sklearn-color-background: var(--sg-background-color, var(--theme-background, var(--jp-layout-color0, #111)));\n",
       "    --sklearn-color-border-box: var(--sg-text-color, var(--theme-code-foreground, var(--jp-content-font-color1, white)));\n",
       "    --sklearn-color-icon: #878787;\n",
       "  }\n",
       "}\n",
       "\n",
       "#sk-container-id-1 {\n",
       "  color: var(--sklearn-color-text);\n",
       "}\n",
       "\n",
       "#sk-container-id-1 pre {\n",
       "  padding: 0;\n",
       "}\n",
       "\n",
       "#sk-container-id-1 input.sk-hidden--visually {\n",
       "  border: 0;\n",
       "  clip: rect(1px 1px 1px 1px);\n",
       "  clip: rect(1px, 1px, 1px, 1px);\n",
       "  height: 1px;\n",
       "  margin: -1px;\n",
       "  overflow: hidden;\n",
       "  padding: 0;\n",
       "  position: absolute;\n",
       "  width: 1px;\n",
       "}\n",
       "\n",
       "#sk-container-id-1 div.sk-dashed-wrapped {\n",
       "  border: 1px dashed var(--sklearn-color-line);\n",
       "  margin: 0 0.4em 0.5em 0.4em;\n",
       "  box-sizing: border-box;\n",
       "  padding-bottom: 0.4em;\n",
       "  background-color: var(--sklearn-color-background);\n",
       "}\n",
       "\n",
       "#sk-container-id-1 div.sk-container {\n",
       "  /* jupyter's `normalize.less` sets `[hidden] { display: none; }`\n",
       "     but bootstrap.min.css set `[hidden] { display: none !important; }`\n",
       "     so we also need the `!important` here to be able to override the\n",
       "     default hidden behavior on the sphinx rendered scikit-learn.org.\n",
       "     See: https://github.com/scikit-learn/scikit-learn/issues/21755 */\n",
       "  display: inline-block !important;\n",
       "  position: relative;\n",
       "}\n",
       "\n",
       "#sk-container-id-1 div.sk-text-repr-fallback {\n",
       "  display: none;\n",
       "}\n",
       "\n",
       "div.sk-parallel-item,\n",
       "div.sk-serial,\n",
       "div.sk-item {\n",
       "  /* draw centered vertical line to link estimators */\n",
       "  background-image: linear-gradient(var(--sklearn-color-text-on-default-background), var(--sklearn-color-text-on-default-background));\n",
       "  background-size: 2px 100%;\n",
       "  background-repeat: no-repeat;\n",
       "  background-position: center center;\n",
       "}\n",
       "\n",
       "/* Parallel-specific style estimator block */\n",
       "\n",
       "#sk-container-id-1 div.sk-parallel-item::after {\n",
       "  content: \"\";\n",
       "  width: 100%;\n",
       "  border-bottom: 2px solid var(--sklearn-color-text-on-default-background);\n",
       "  flex-grow: 1;\n",
       "}\n",
       "\n",
       "#sk-container-id-1 div.sk-parallel {\n",
       "  display: flex;\n",
       "  align-items: stretch;\n",
       "  justify-content: center;\n",
       "  background-color: var(--sklearn-color-background);\n",
       "  position: relative;\n",
       "}\n",
       "\n",
       "#sk-container-id-1 div.sk-parallel-item {\n",
       "  display: flex;\n",
       "  flex-direction: column;\n",
       "}\n",
       "\n",
       "#sk-container-id-1 div.sk-parallel-item:first-child::after {\n",
       "  align-self: flex-end;\n",
       "  width: 50%;\n",
       "}\n",
       "\n",
       "#sk-container-id-1 div.sk-parallel-item:last-child::after {\n",
       "  align-self: flex-start;\n",
       "  width: 50%;\n",
       "}\n",
       "\n",
       "#sk-container-id-1 div.sk-parallel-item:only-child::after {\n",
       "  width: 0;\n",
       "}\n",
       "\n",
       "/* Serial-specific style estimator block */\n",
       "\n",
       "#sk-container-id-1 div.sk-serial {\n",
       "  display: flex;\n",
       "  flex-direction: column;\n",
       "  align-items: center;\n",
       "  background-color: var(--sklearn-color-background);\n",
       "  padding-right: 1em;\n",
       "  padding-left: 1em;\n",
       "}\n",
       "\n",
       "\n",
       "/* Toggleable style: style used for estimator/Pipeline/ColumnTransformer box that is\n",
       "clickable and can be expanded/collapsed.\n",
       "- Pipeline and ColumnTransformer use this feature and define the default style\n",
       "- Estimators will overwrite some part of the style using the `sk-estimator` class\n",
       "*/\n",
       "\n",
       "/* Pipeline and ColumnTransformer style (default) */\n",
       "\n",
       "#sk-container-id-1 div.sk-toggleable {\n",
       "  /* Default theme specific background. It is overwritten whether we have a\n",
       "  specific estimator or a Pipeline/ColumnTransformer */\n",
       "  background-color: var(--sklearn-color-background);\n",
       "}\n",
       "\n",
       "/* Toggleable label */\n",
       "#sk-container-id-1 label.sk-toggleable__label {\n",
       "  cursor: pointer;\n",
       "  display: block;\n",
       "  width: 100%;\n",
       "  margin-bottom: 0;\n",
       "  padding: 0.5em;\n",
       "  box-sizing: border-box;\n",
       "  text-align: center;\n",
       "}\n",
       "\n",
       "#sk-container-id-1 label.sk-toggleable__label-arrow:before {\n",
       "  /* Arrow on the left of the label */\n",
       "  content: \"▸\";\n",
       "  float: left;\n",
       "  margin-right: 0.25em;\n",
       "  color: var(--sklearn-color-icon);\n",
       "}\n",
       "\n",
       "#sk-container-id-1 label.sk-toggleable__label-arrow:hover:before {\n",
       "  color: var(--sklearn-color-text);\n",
       "}\n",
       "\n",
       "/* Toggleable content - dropdown */\n",
       "\n",
       "#sk-container-id-1 div.sk-toggleable__content {\n",
       "  max-height: 0;\n",
       "  max-width: 0;\n",
       "  overflow: hidden;\n",
       "  text-align: left;\n",
       "  /* unfitted */\n",
       "  background-color: var(--sklearn-color-unfitted-level-0);\n",
       "}\n",
       "\n",
       "#sk-container-id-1 div.sk-toggleable__content.fitted {\n",
       "  /* fitted */\n",
       "  background-color: var(--sklearn-color-fitted-level-0);\n",
       "}\n",
       "\n",
       "#sk-container-id-1 div.sk-toggleable__content pre {\n",
       "  margin: 0.2em;\n",
       "  border-radius: 0.25em;\n",
       "  color: var(--sklearn-color-text);\n",
       "  /* unfitted */\n",
       "  background-color: var(--sklearn-color-unfitted-level-0);\n",
       "}\n",
       "\n",
       "#sk-container-id-1 div.sk-toggleable__content.fitted pre {\n",
       "  /* unfitted */\n",
       "  background-color: var(--sklearn-color-fitted-level-0);\n",
       "}\n",
       "\n",
       "#sk-container-id-1 input.sk-toggleable__control:checked~div.sk-toggleable__content {\n",
       "  /* Expand drop-down */\n",
       "  max-height: 200px;\n",
       "  max-width: 100%;\n",
       "  overflow: auto;\n",
       "}\n",
       "\n",
       "#sk-container-id-1 input.sk-toggleable__control:checked~label.sk-toggleable__label-arrow:before {\n",
       "  content: \"▾\";\n",
       "}\n",
       "\n",
       "/* Pipeline/ColumnTransformer-specific style */\n",
       "\n",
       "#sk-container-id-1 div.sk-label input.sk-toggleable__control:checked~label.sk-toggleable__label {\n",
       "  color: var(--sklearn-color-text);\n",
       "  background-color: var(--sklearn-color-unfitted-level-2);\n",
       "}\n",
       "\n",
       "#sk-container-id-1 div.sk-label.fitted input.sk-toggleable__control:checked~label.sk-toggleable__label {\n",
       "  background-color: var(--sklearn-color-fitted-level-2);\n",
       "}\n",
       "\n",
       "/* Estimator-specific style */\n",
       "\n",
       "/* Colorize estimator box */\n",
       "#sk-container-id-1 div.sk-estimator input.sk-toggleable__control:checked~label.sk-toggleable__label {\n",
       "  /* unfitted */\n",
       "  background-color: var(--sklearn-color-unfitted-level-2);\n",
       "}\n",
       "\n",
       "#sk-container-id-1 div.sk-estimator.fitted input.sk-toggleable__control:checked~label.sk-toggleable__label {\n",
       "  /* fitted */\n",
       "  background-color: var(--sklearn-color-fitted-level-2);\n",
       "}\n",
       "\n",
       "#sk-container-id-1 div.sk-label label.sk-toggleable__label,\n",
       "#sk-container-id-1 div.sk-label label {\n",
       "  /* The background is the default theme color */\n",
       "  color: var(--sklearn-color-text-on-default-background);\n",
       "}\n",
       "\n",
       "/* On hover, darken the color of the background */\n",
       "#sk-container-id-1 div.sk-label:hover label.sk-toggleable__label {\n",
       "  color: var(--sklearn-color-text);\n",
       "  background-color: var(--sklearn-color-unfitted-level-2);\n",
       "}\n",
       "\n",
       "/* Label box, darken color on hover, fitted */\n",
       "#sk-container-id-1 div.sk-label.fitted:hover label.sk-toggleable__label.fitted {\n",
       "  color: var(--sklearn-color-text);\n",
       "  background-color: var(--sklearn-color-fitted-level-2);\n",
       "}\n",
       "\n",
       "/* Estimator label */\n",
       "\n",
       "#sk-container-id-1 div.sk-label label {\n",
       "  font-family: monospace;\n",
       "  font-weight: bold;\n",
       "  display: inline-block;\n",
       "  line-height: 1.2em;\n",
       "}\n",
       "\n",
       "#sk-container-id-1 div.sk-label-container {\n",
       "  text-align: center;\n",
       "}\n",
       "\n",
       "/* Estimator-specific */\n",
       "#sk-container-id-1 div.sk-estimator {\n",
       "  font-family: monospace;\n",
       "  border: 1px dotted var(--sklearn-color-border-box);\n",
       "  border-radius: 0.25em;\n",
       "  box-sizing: border-box;\n",
       "  margin-bottom: 0.5em;\n",
       "  /* unfitted */\n",
       "  background-color: var(--sklearn-color-unfitted-level-0);\n",
       "}\n",
       "\n",
       "#sk-container-id-1 div.sk-estimator.fitted {\n",
       "  /* fitted */\n",
       "  background-color: var(--sklearn-color-fitted-level-0);\n",
       "}\n",
       "\n",
       "/* on hover */\n",
       "#sk-container-id-1 div.sk-estimator:hover {\n",
       "  /* unfitted */\n",
       "  background-color: var(--sklearn-color-unfitted-level-2);\n",
       "}\n",
       "\n",
       "#sk-container-id-1 div.sk-estimator.fitted:hover {\n",
       "  /* fitted */\n",
       "  background-color: var(--sklearn-color-fitted-level-2);\n",
       "}\n",
       "\n",
       "/* Specification for estimator info (e.g. \"i\" and \"?\") */\n",
       "\n",
       "/* Common style for \"i\" and \"?\" */\n",
       "\n",
       ".sk-estimator-doc-link,\n",
       "a:link.sk-estimator-doc-link,\n",
       "a:visited.sk-estimator-doc-link {\n",
       "  float: right;\n",
       "  font-size: smaller;\n",
       "  line-height: 1em;\n",
       "  font-family: monospace;\n",
       "  background-color: var(--sklearn-color-background);\n",
       "  border-radius: 1em;\n",
       "  height: 1em;\n",
       "  width: 1em;\n",
       "  text-decoration: none !important;\n",
       "  margin-left: 1ex;\n",
       "  /* unfitted */\n",
       "  border: var(--sklearn-color-unfitted-level-1) 1pt solid;\n",
       "  color: var(--sklearn-color-unfitted-level-1);\n",
       "}\n",
       "\n",
       ".sk-estimator-doc-link.fitted,\n",
       "a:link.sk-estimator-doc-link.fitted,\n",
       "a:visited.sk-estimator-doc-link.fitted {\n",
       "  /* fitted */\n",
       "  border: var(--sklearn-color-fitted-level-1) 1pt solid;\n",
       "  color: var(--sklearn-color-fitted-level-1);\n",
       "}\n",
       "\n",
       "/* On hover */\n",
       "div.sk-estimator:hover .sk-estimator-doc-link:hover,\n",
       ".sk-estimator-doc-link:hover,\n",
       "div.sk-label-container:hover .sk-estimator-doc-link:hover,\n",
       ".sk-estimator-doc-link:hover {\n",
       "  /* unfitted */\n",
       "  background-color: var(--sklearn-color-unfitted-level-3);\n",
       "  color: var(--sklearn-color-background);\n",
       "  text-decoration: none;\n",
       "}\n",
       "\n",
       "div.sk-estimator.fitted:hover .sk-estimator-doc-link.fitted:hover,\n",
       ".sk-estimator-doc-link.fitted:hover,\n",
       "div.sk-label-container:hover .sk-estimator-doc-link.fitted:hover,\n",
       ".sk-estimator-doc-link.fitted:hover {\n",
       "  /* fitted */\n",
       "  background-color: var(--sklearn-color-fitted-level-3);\n",
       "  color: var(--sklearn-color-background);\n",
       "  text-decoration: none;\n",
       "}\n",
       "\n",
       "/* Span, style for the box shown on hovering the info icon */\n",
       ".sk-estimator-doc-link span {\n",
       "  display: none;\n",
       "  z-index: 9999;\n",
       "  position: relative;\n",
       "  font-weight: normal;\n",
       "  right: .2ex;\n",
       "  padding: .5ex;\n",
       "  margin: .5ex;\n",
       "  width: min-content;\n",
       "  min-width: 20ex;\n",
       "  max-width: 50ex;\n",
       "  color: var(--sklearn-color-text);\n",
       "  box-shadow: 2pt 2pt 4pt #999;\n",
       "  /* unfitted */\n",
       "  background: var(--sklearn-color-unfitted-level-0);\n",
       "  border: .5pt solid var(--sklearn-color-unfitted-level-3);\n",
       "}\n",
       "\n",
       ".sk-estimator-doc-link.fitted span {\n",
       "  /* fitted */\n",
       "  background: var(--sklearn-color-fitted-level-0);\n",
       "  border: var(--sklearn-color-fitted-level-3);\n",
       "}\n",
       "\n",
       ".sk-estimator-doc-link:hover span {\n",
       "  display: block;\n",
       "}\n",
       "\n",
       "/* \"?\"-specific style due to the `<a>` HTML tag */\n",
       "\n",
       "#sk-container-id-1 a.estimator_doc_link {\n",
       "  float: right;\n",
       "  font-size: 1rem;\n",
       "  line-height: 1em;\n",
       "  font-family: monospace;\n",
       "  background-color: var(--sklearn-color-background);\n",
       "  border-radius: 1rem;\n",
       "  height: 1rem;\n",
       "  width: 1rem;\n",
       "  text-decoration: none;\n",
       "  /* unfitted */\n",
       "  color: var(--sklearn-color-unfitted-level-1);\n",
       "  border: var(--sklearn-color-unfitted-level-1) 1pt solid;\n",
       "}\n",
       "\n",
       "#sk-container-id-1 a.estimator_doc_link.fitted {\n",
       "  /* fitted */\n",
       "  border: var(--sklearn-color-fitted-level-1) 1pt solid;\n",
       "  color: var(--sklearn-color-fitted-level-1);\n",
       "}\n",
       "\n",
       "/* On hover */\n",
       "#sk-container-id-1 a.estimator_doc_link:hover {\n",
       "  /* unfitted */\n",
       "  background-color: var(--sklearn-color-unfitted-level-3);\n",
       "  color: var(--sklearn-color-background);\n",
       "  text-decoration: none;\n",
       "}\n",
       "\n",
       "#sk-container-id-1 a.estimator_doc_link.fitted:hover {\n",
       "  /* fitted */\n",
       "  background-color: var(--sklearn-color-fitted-level-3);\n",
       "}\n",
       "</style><div id=\"sk-container-id-1\" class=\"sk-top-container\"><div class=\"sk-text-repr-fallback\"><pre>MinMaxScaler(feature_range=(-0.5, 0.5))</pre><b>In a Jupyter environment, please rerun this cell to show the HTML representation or trust the notebook. <br />On GitHub, the HTML representation is unable to render, please try loading this page with nbviewer.org.</b></div><div class=\"sk-container\" hidden><div class=\"sk-item\"><div class=\"sk-estimator fitted sk-toggleable\"><input class=\"sk-toggleable__control sk-hidden--visually\" id=\"sk-estimator-id-1\" type=\"checkbox\" checked><label for=\"sk-estimator-id-1\" class=\"sk-toggleable__label fitted sk-toggleable__label-arrow fitted\">&nbsp;&nbsp;MinMaxScaler<a class=\"sk-estimator-doc-link fitted\" rel=\"noreferrer\" target=\"_blank\" href=\"https://scikit-learn.org/1.4/modules/generated/sklearn.preprocessing.MinMaxScaler.html\">?<span>Documentation for MinMaxScaler</span></a><span class=\"sk-estimator-doc-link fitted\">i<span>Fitted</span></span></label><div class=\"sk-toggleable__content fitted\"><pre>MinMaxScaler(feature_range=(-0.5, 0.5))</pre></div> </div></div></div></div>"
      ],
      "text/plain": [
       "MinMaxScaler(feature_range=(-0.5, 0.5))"
      ]
     },
     "execution_count": 27,
     "metadata": {},
     "output_type": "execute_result"
    }
   ],
   "execution_count": 27
  },
  {
   "cell_type": "code",
   "id": "5d69bfd2-ce4e-42cc-9665-feff9f110eaa",
   "metadata": {
    "ExecuteTime": {
     "end_time": "2024-09-03T13:58:25.841970Z",
     "start_time": "2024-09-03T13:58:25.840525Z"
    }
   },
   "source": [
    "y_sc_c = scalery_gen.transform(\n",
    "    log_transformer.transform(y_arr_c.reshape(-1, 1))).flatten()"
   ],
   "outputs": [],
   "execution_count": 28
  },
  {
   "cell_type": "code",
   "id": "96550dee-bd9e-4b73-ba58-d974c4285297",
   "metadata": {
    "ExecuteTime": {
     "end_time": "2024-09-03T13:58:25.891789Z",
     "start_time": "2024-09-03T13:58:25.890261Z"
    }
   },
   "source": [
    "# inlcude stable state for warmup\n",
    "stst = y_sc_c[0]\n",
    "if np.isfinite(y_sc_c[0]) == False:\n",
    "    if hp['pre-training']:\n",
    "        stst = scalery_gen.transform(\n",
    "            log_transformer.transform(np.array(\n",
    "                pc[-1]).reshape(-1, 1))).flatten()\n",
    "    else:\n",
    "        stst = np.nanmean(y_sc_c)"
   ],
   "outputs": [],
   "execution_count": 29
  },
  {
   "cell_type": "markdown",
   "id": "94b002d5-e9f3-4f63-9d8a-a4f854bbfce8",
   "metadata": {},
   "source": [
    "### generate Transfer learning data of different treatment scenarios"
   ]
  },
  {
   "cell_type": "code",
   "id": "0b97c5c8-e253-4050-bd98-505933a0c00e",
   "metadata": {
    "ExecuteTime": {
     "end_time": "2024-09-03T13:58:26.469072Z",
     "start_time": "2024-09-03T13:58:25.940590Z"
    }
   },
   "source": [
    "if hp['pre-training']:\n",
    "    sc_df = pd.read_csv('therapies_all.csv', index_col=0)\n",
    "    t_sc = np.arange(0,300) # scenarios have a length of 300 days\n",
    "    y_frtrain = friberg(pc, t_sc, therapy)\n",
    "    X = np.zeros(len(t))\n",
    "    X[therapy[0]] = therapy[1]\n",
    "\n",
    "    y_frsc = [y_frtrain]\n",
    "    \n",
    "    # training scenarios\n",
    "    for i in range(7):\n",
    "        therapy_sc = (sc_df[f'therapy_days_set{i}'].astype(int).to_numpy(),\n",
    "            sc_df[f'dosages_set{i}'].to_numpy())\n",
    "        y_sc = friberg(pc, t_sc, therapy_sc)\n",
    "        y_frsc.append(y_sc)\n",
    "        \n",
    "    y_frsc = np.array(y_frsc)\n",
    "    X_frsc = np.zeros((8, 300))\n",
    "    X_frsc[0, therapy[0]] = therapy[1]\n",
    "    for i in range(7):\n",
    "        day = sc_df[f'therapy_days_set{i}'].astype(int).to_numpy(),\n",
    "        dose = sc_df[f'dosages_set{i}'].to_numpy()\n",
    "        X_frsc[i + 1, day] = dose\n",
    "\n",
    "else:\n",
    "    X = np.zeros(len(t))\n",
    "    X[therapy[0]] = therapy[1]"
   ],
   "outputs": [],
   "execution_count": 30
  },
  {
   "cell_type": "code",
   "id": "5cfe3184-4d3b-41dc-a323-e49362bbdb48",
   "metadata": {},
   "source": [
    "# pad data for initial stable state for warm up \n",
    "X_add = np.concatenate([np.zeros((28)), X], 0)\n",
    "\n",
    "# transform data to log\n",
    "y = scalery_gen.transform(\n",
    "    log_transformer.transform(y_arr.reshape(-1, 1))).flatten()\n",
    "ylog = log_transformer.transform(y_arr.reshape(-1, 1)).flatten()\n",
    "y_pad = np.nan * np.ones(len(X))\n",
    "y_pad[t_arr] = y\n",
    "y_padlog = np.nan * np.ones(len(X))\n",
    "y_padlog[t_arr] = ylog"
   ],
   "outputs": [],
   "execution_count": 31
  },
  {
   "cell_type": "code",
   "id": "63d9d91d-15fa-4414-ba7b-5132e261669b",
   "metadata": {
    "ExecuteTime": {
     "end_time": "2024-09-03T13:58:26.552674Z",
     "start_time": "2024-09-03T13:58:26.551106Z"
    }
   },
   "source": [
    "# test part of individual ts\n",
    "l = t_c[-1] + 1\n",
    "y_add = np.concatenate([stst * np.ones(28), y_pad], 0)\n",
    "sparse_all = np.nan * np.ones(len(X))\n",
    "sparse_all[t_arr] = 1.\n",
    "y_test = y_pad[l:]\n",
    "y_testlog = y_padlog[l:]"
   ],
   "outputs": [],
   "execution_count": 32
  },
  {
   "cell_type": "code",
   "id": "29b7331f-d5c6-4a9b-b6a7-4af6146cef1d",
   "metadata": {
    "ExecuteTime": {
     "end_time": "2024-09-03T13:58:26.616147Z",
     "start_time": "2024-09-03T13:58:26.614818Z"
    }
   },
   "source": [
    "# train part of individual ts\n",
    "y_train = y_add[:l + 28]\n",
    "X_train = X_add[:l + 28]"
   ],
   "outputs": [],
   "execution_count": 33
  },
  {
   "cell_type": "code",
   "id": "b7b5f81d-f5b2-4309-82b1-62381b2c4fd2",
   "metadata": {
    "ExecuteTime": {
     "end_time": "2024-09-03T13:58:26.650154Z",
     "start_time": "2024-09-03T13:58:26.647297Z"
    }
   },
   "source": [
    "# train/test split of friberg scenarios if pre-training is used\n",
    "if hp['pre-training']:\n",
    "    X_frtrain = X_frsc[:6]\n",
    "    X_frtest = X_frsc[6:]\n",
    "\n",
    "    y_frtest = y_frsc[6:]\n",
    "    y_frtrain = y_frsc[:6]\n",
    "\n",
    "    # concat steady state\n",
    "    X_frtest = np.concatenate([np.zeros((2,28)), X_frtest], 1)\n",
    "    X_frtrain = np.concatenate([np.zeros((6, 28)), X_frtrain], 1)\n",
    "    shape_train = y_frtrain.shape\n",
    "    shape_test = y_frtest.shape\n",
    "    y_frtrain = np.concatenate(\n",
    "        [np.ones((6, hp['lag'])) * stst, scalery_gen.transform(\n",
    "        log_transformer.transform(\n",
    "        y_frtrain.reshape(-1,1))).reshape(shape_train)], 1)\n",
    "    y_frtest = np.concatenate(\n",
    "        [np.ones((2,hp['lag'])) * stst, scalery_gen.transform(\n",
    "            log_transformer.transform(\n",
    "        y_frtest.reshape(-1,1))).reshape(shape_test)],1)"
   ],
   "outputs": [],
   "execution_count": 34
  },
  {
   "cell_type": "markdown",
   "id": "3962503f-eb0e-4ae1-93d4-0c78b62a8528",
   "metadata": {},
   "source": [
    "### shape data to work with NARX architecture"
   ]
  },
  {
   "cell_type": "code",
   "id": "840edff0-457f-45fc-9b0c-ddae486c30a0",
   "metadata": {
    "ExecuteTime": {
     "end_time": "2024-09-03T13:58:26.697079Z",
     "start_time": "2024-09-03T13:58:26.692422Z"
    }
   },
   "source": [
    "# shape ts to work with ARX architecture\n",
    "feat_gru = np.vstack([X_train, y_train]).T\n",
    "feat_gru[xlag:, 1] = np.zeros(len(y_train) - xlag) * np.NaN\n",
    "shape = feat_gru.shape\n",
    "feat_gru = feat_gru.reshape(1, shape[0], shape[1])\n",
    "target_gru = y_train[hp['lag']:].reshape(1, shape[0] - xlag,\n",
    "                                          1)\n",
    "test_gru = np.vstack([X_add, y_add]).T\n",
    "test_gru[xlag:, 1] = np.zeros(len(y_add) - xlag) * np.NaN\n",
    "shape = test_gru.shape\n",
    "test_gru = test_gru.reshape(1, shape[0], shape[1])\n",
    "\n",
    "if hp['pre-training']:\n",
    "    feat_fr = np.dstack([X_frtrain, y_frtrain])\n",
    "    feat_fr[:,xlag:, 1] = np.zeros(len(y_frtrain[0]) - xlag) * np.NaN\n",
    "    target_fr = y_frtrain[:,hp['lag']:]\n",
    "    val_fr = np.dstack([X_frtest, y_frtest])\n",
    "    val_fr[:,xlag:, 1] = np.zeros(len(y_frtest[0]) - xlag) * np.NaN\n",
    "    target_val_fr = y_frtest[:,hp['lag']:]\n",
    "else:\n",
    "    feat_fr  = 0.\n",
    "    target_fr = 0.\n",
    "    val_fr = 0.\n",
    "    target_val_fr = 0.\n",
    "\n",
    "# FNN needs differently shaped features\n",
    "if hp['celltype'] == 'FNN':\n",
    "    feat_gru_lag = np.zeros(\n",
    "            (1, len(X_train) - hp['xlag'] + 1, hp['xlag'] + hp['ylag']))\n",
    "    for i in range(len(X_train) - hp['xlag'], -1, -1):\n",
    "        feat_gru_lag[:, i, :hp['ylag']] = feat_gru[:, i:i + hp['ylag'],\n",
    "                                           1]\n",
    "        feat_gru_lag[:, i, hp['ylag']:] = feat_gru[:, i:i + hp['xlag'],0]\n",
    "\n",
    "    if hp['pre-training']:\n",
    "    # TODO\n",
    "        feat_fr_lag = np.zeros(\n",
    "            (X_frtrain.shape[0], X_frtrain.shape[1] - hp['xlag'] + 1,\n",
    "             hp['xlag'] + hp[\n",
    "                'ylag']))\n",
    "        for i in range(X_frtrain.shape[1] - hp['xlag'], -1, -1):\n",
    "            feat_fr_lag[:, i, :hp['ylag']] = feat_fr[:, i:i + hp['ylag'],1]\n",
    "            feat_fr_lag[:, i, hp['ylag']:] = feat_fr[:, i:i + hp['xlag'],0]\n",
    "        val_fr_lag = np.zeros(\n",
    "            (X_frtest.shape[0], X_frtest.shape[1] - hp['xlag'] + 1,\n",
    "             hp['xlag'] + hp[\n",
    "                'ylag']))\n",
    "        # what about different lags?! if ylag is bigger, then rebuild\n",
    "        for i in range(X_frtest.shape[1] - hp['xlag'], -1, -1):\n",
    "            val_fr_lag[:, i, :hp['ylag']] = val_fr[:, i:i + hp['ylag'], 1]\n",
    "            val_fr_lag[:, i, hp['ylag']:] = val_fr[:, i:i + hp['xlag'], 0]\n",
    "        feat_fr = feat_fr_lag\n",
    "        val_fr = val_fr_lag\n",
    "\n",
    "    test_gru_lag = np.zeros(\n",
    "        (1, len(X_add) - hp['xlag'] + 1, hp['xlag'] + hp['ylag']))\n",
    "    for i in range(len(X_add) - hp['xlag'], -1, -1):\n",
    "        test_gru_lag[:, i, :hp['ylag']] = test_gru[:, i:i + hp['ylag'],\n",
    "                                           1]\n",
    "        test_gru_lag[:, i, hp['ylag']:] = test_gru[:, i:i + hp['xlag'],0]\n",
    "    feat_gru = feat_gru_lag\n",
    "    test_gru = test_gru_lag"
   ],
   "outputs": [],
   "execution_count": 35
  },
  {
   "cell_type": "markdown",
   "id": "d19c2a9e-38a2-4e98-bc9b-23538ac249f5",
   "metadata": {},
   "source": [
    "## learning "
   ]
  },
  {
   "cell_type": "markdown",
   "id": "ef67dfc3-1947-4592-a5a1-2fe7bbda79fe",
   "metadata": {},
   "source": [
    "### error function"
   ]
  },
  {
   "cell_type": "code",
   "id": "c27f5f95-5104-4f97-9929-8ffc358174e6",
   "metadata": {
    "ExecuteTime": {
     "end_time": "2024-09-03T13:58:26.738460Z",
     "start_time": "2024-09-03T13:58:26.737517Z"
    }
   },
   "source": [
    "smsem = Step_MSE_missing(s=hp['s'])"
   ],
   "outputs": [],
   "execution_count": 36
  },
  {
   "cell_type": "code",
   "id": "896a7f66-8d17-4ece-a1de-68117466a0df",
   "metadata": {
    "ExecuteTime": {
     "end_time": "2024-09-03T13:58:26.788406Z",
     "start_time": "2024-09-03T13:58:26.787565Z"
    }
   },
   "source": [
    "def err_func():\n",
    "    if hp['step_mse']:\n",
    "        return Step_MSE_missing(s=hp['s_train'])\n",
    "    else:\n",
    "        return MSE_missing()"
   ],
   "outputs": [],
   "execution_count": 37
  },
  {
   "cell_type": "code",
   "id": "7ceddbff-06ee-49e5-8b5c-ed8b452ce188",
   "metadata": {
    "ExecuteTime": {
     "end_time": "2024-09-03T13:58:26.838206Z",
     "start_time": "2024-09-03T13:58:26.835624Z"
    }
   },
   "source": [
    "l = t_c[-1] + 1\n",
    "# clear session for model recreation\n",
    "tf.keras.backend.clear_session()"
   ],
   "outputs": [],
   "execution_count": 38
  },
  {
   "cell_type": "markdown",
   "id": "75c99d34-5365-46c1-8135-89f88966bcad",
   "metadata": {},
   "source": [
    "### build model"
   ]
  },
  {
   "cell_type": "markdown",
   "id": "3e633126-ce0e-4d0c-961c-df5f936c5a2d",
   "metadata": {},
   "source": [
    "reset some dictionary values for pre-training"
   ]
  },
  {
   "cell_type": "code",
   "id": "ac552758-7fd0-447f-bbed-26475fb5b823",
   "metadata": {
    "ExecuteTime": {
     "end_time": "2024-09-03T13:58:26.893284Z",
     "start_time": "2024-09-03T13:58:26.891892Z"
    }
   },
   "source": [
    "# first set dropout to zero if needed:\n",
    "hpx = hp.copy()\n",
    "hpx['in_dr'] = 0.\n",
    "hpx['re_dr'] = 0.\n",
    "if hp['celltype'] == 'FNN':\n",
    "    hpx['delta'] = 0.005\n",
    "hpx['stddev'] = hp['stddev_ft']"
   ],
   "outputs": [],
   "execution_count": 39
  },
  {
   "cell_type": "markdown",
   "id": "b44ff757-4629-4f24-9ce2-bd96125296d9",
   "metadata": {},
   "source": [
    "get celltype"
   ]
  },
  {
   "cell_type": "code",
   "id": "dc93a328-938d-4866-92d9-d56b1d167ea8",
   "metadata": {
    "ExecuteTime": {
     "end_time": "2024-09-03T13:58:26.974618Z",
     "start_time": "2024-09-03T13:58:26.932038Z"
    }
   },
   "source": [
    "if hp['celltype'] == 'GRU':\n",
    "    cell = tf.keras.layers.GRUCell\n",
    "    model = buildrnn(cell=cell, hp=hp)\n",
    "    \n",
    "elif hp['celltype'] == 'FNN':\n",
    "    model = buildNARX(hp=hp)\n",
    "else:\n",
    "    raise ValueError"
   ],
   "outputs": [],
   "execution_count": 40
  },
  {
   "cell_type": "markdown",
   "id": "56537fd8-ac56-4ae4-b977-a7f1c6d03db1",
   "metadata": {},
   "source": [
    "### Transfer learning"
   ]
  },
  {
   "cell_type": "code",
   "id": "ad1432bd-58e4-4478-aaae-9aa5f0dfdcfc",
   "metadata": {
    "ExecuteTime": {
     "end_time": "2024-09-03T14:05:41.868670Z",
     "start_time": "2024-09-03T13:58:27.859520Z"
    }
   },
   "source": [
    "if hp['pre-training']:\n",
    "    # recompile to MSE, stronger lr etc\n",
    "    lr_schedule = tf.keras.optimizers.schedules.ExponentialDecay(\n",
    "        initial_learning_rate=hp['lr'],\n",
    "        decay_steps=1800,\n",
    "        decay_rate=0.8)\n",
    "    optimizer = tf.keras.optimizers.Adam(learning_rate=lr_schedule)\n",
    "    loss_fn = tf.keras.losses.MeanSquaredError()\n",
    "    model.compile(optimizer=optimizer, loss=loss_fn)\n",
    "\n",
    "    # call on some data to initialize weights, \n",
    "    # needs to have the same last shape as training data\n",
    "    if hp['index']:\n",
    "        if hp['celltype'] == 'GRU':\n",
    "            yt = model(np.ones((6, hp['lag'] + 1, 2)))\n",
    "        elif hp['celltype'] == 'FNN':\n",
    "            yt = model(feat_gru)\n",
    "        model.load_weights(hp['index_path'])\n",
    "\n",
    "    callbacks = tf.keras.callbacks.CallbackList(\n",
    "        [tf.keras.callbacks.History(),\n",
    "         EarlyStoppAveraged(monitor='val_loss', av_epochs=hp['av_epochs'],\n",
    "                                          restore_best_weights=True,\n",
    "                                          patience=hp['patience'],\n",
    "                            min_delta=hp['min_delta_fri'])])\n",
    "    callbacks.set_model(model)\n",
    "\n",
    "    hist_pre = model.fit(x=feat_fr, y=target_fr,\n",
    "                              validation_data=(val_fr, target_val_fr),\n",
    "                             batch_size=None,\n",
    "                              epochs=hp['max_epochs'], verbose=0,\n",
    "                              callbacks=callbacks)\n",
    "    \n",
    "    model.stop_training = False\n",
    "    fri_weights = model.get_weights()\n",
    "\n",
    "    # model with GN\n",
    "    if hp['celltype'] == 'GRU':\n",
    "        model = buildrnn(cell=cell, hp=hpx)\n",
    "    if hp['celltype'] == 'FNN':\n",
    "        model = buildNARX(hp=hpx)\n",
    "\n",
    "    # call to initialize weigths again\n",
    "    if hp['celltype'] == 'GRU':\n",
    "        yt = model(np.ones((1, hp['lag'] + 1, 2)))\n",
    "    elif hp['celltype'] == 'FNN':\n",
    "        yt = model(feat_gru)\n",
    "\n",
    "    model.set_weights(fri_weights)\n",
    "    for layer in model.layers[:-1]:\n",
    "        layer.trainable = False\n",
    "\n",
    "    # opt params\n",
    "    lr_schedule = tf.keras.optimizers.schedules.ExponentialDecay(\n",
    "        initial_learning_rate=hp['lr_ft'],\n",
    "        decay_steps=1800,\n",
    "        decay_rate=0.8)\n",
    "    optimizer = tf.keras.optimizers.Adam(learning_rate=lr_schedule)\n",
    "\n",
    "    # combined loss with smoothing needs to run eagerly\n",
    "    tf.config.run_functions_eagerly(True)\n",
    "    loss_fn = tf.function(smse_smoothing(k=int(hpx['k']), c=hpx['c'],\n",
    "                             s=hpx['s_train']))\n",
    "    model.compile(optimizer=optimizer, loss=loss_fn)\n",
    "\n",
    "    # set friberg weights\n",
    "    model.set_weights(fri_weights)\n",
    "\n",
    "    callbacks = tf.keras.callbacks.CallbackList(\n",
    "        [tf.keras.callbacks.History(),\n",
    "         EarlyStoppAveraged(monitor='loss', av_epochs=hp['av_epochs'],\n",
    "                                          restore_best_weights=True,\n",
    "                                          patience=hp['patience'],\n",
    "                            min_delta=hp['min_delta_ptr'])])\n",
    "    callbacks.set_model(model)\n",
    "    hist_pre2 = model.fit(x=feat_gru, y=target_gru,\n",
    "                         epochs=hp['max_epochs'], verbose=0,\n",
    "                         callbacks=callbacks)\n",
    "    model.stop_training = False\n",
    "    for layer in model.layers[:-1]:\n",
    "        layer.trainable = True\n",
    "    ptr_weights = model.get_weights()\n",
    "\n",
    "    \n",
    "    # for regularizaton functions to work, do not run eagerly\n",
    "    tf.config.run_functions_eagerly(False)\n",
    "    if hp['celltype'] == 'GRU':\n",
    "        model = buildrnn(cell=cell, hp=hpx)\n",
    "    if hp['celltype'] == 'FNN':\n",
    "        model = buildNARX(hp=hpx)\n",
    "\n",
    "    # opt params\n",
    "    lr_schedule = tf.keras.optimizers.schedules.ExponentialDecay(\n",
    "        initial_learning_rate=hp['lr_ft'],\n",
    "        decay_steps=1800,\n",
    "        decay_rate=0.8)\n",
    "    optimizer = tf.keras.optimizers.Adam(learning_rate=lr_schedule)\n",
    "\n",
    "    loss_fn = Combined_loss([err_func(),\n",
    "                     smoothing(k=int(hpx['k']), c=hpx['c'])])\n",
    "    model.compile(optimizer=optimizer, loss=loss_fn)\n",
    "\n",
    "    # call to initialize weigths again\n",
    "    if hp['celltype'] == 'GRU':\n",
    "        yt = model(np.ones((1, hp['lag'] + 1, 2)))\n",
    "    elif hp['celltype'] == 'FNN':\n",
    "        yt = model(feat_gru)\n",
    "        \n",
    "    model.set_weights(ptr_weights)\n",
    "\n",
    "    callbacks = tf.keras.callbacks.CallbackList(\n",
    "        [tf.keras.callbacks.History(),\n",
    "         EarlyStoppAveraged(monitor='loss', av_epochs=hp['av_epochs'],\n",
    "                                          restore_best_weights=True,\n",
    "                                          patience=hp['patience'],\n",
    "                            min_delta=hp['min_delta_ft'])])\n",
    "    callbacks.set_model(model)\n",
    "\n",
    "    hist = model.fit(x=feat_gru, y=target_gru,\n",
    "                          batch_size=len(target_gru),\n",
    "                          epochs=hp['max_epochs'], verbose=0,\n",
    "                          callbacks=callbacks)"
   ],
   "outputs": [
    {
     "name": "stderr",
     "output_type": "stream",
     "text": [
      "/home/mzech/anaconda3/envs/NARX/lib/python3.9/site-packages/tensorflow/python/data/ops/structured_function.py:258: UserWarning: Even though the `tf.config.experimental_run_functions_eagerly` option is set, this option does not apply to tf.data functions. To force eager execution of tf.data functions, please use `tf.data.experimental.enable_debug_mode()`.\n",
      "  warnings.warn(\n"
     ]
    }
   ],
   "execution_count": 42
  },
  {
   "cell_type": "markdown",
   "id": "af367c63-4834-4ebb-97ce-bb797bbd0c9c",
   "metadata": {},
   "source": [
    "### if no Transfer learning is used"
   ]
  },
  {
   "cell_type": "code",
   "id": "eac1cc46-12f5-4a31-b409-b69afec714e8",
   "metadata": {
    "ExecuteTime": {
     "end_time": "2024-09-03T14:05:41.879192Z",
     "start_time": "2024-09-03T14:05:41.874516Z"
    }
   },
   "source": [
    "if not hp['pre-training']:\n",
    "    lr_schedule = tf.keras.optimizers.schedules.ExponentialDecay(\n",
    "        initial_learning_rate=hp['lr'],\n",
    "        decay_steps=1800,\n",
    "        decay_rate=0.8)\n",
    "    optimizer = tf.keras.optimizers.Adam(learning_rate=lr_schedule)\n",
    "    loss_fn = Combined_loss([err_func(),\n",
    "                             smoothing(k=int(hp['k']), c=hp['c'])])\n",
    "    model.compile(optimizer=optimizer, loss=loss_fn)\n",
    "    callbacks = tf.keras.callbacks.CallbackList(\n",
    "        [tf.keras.callbacks.History(),\n",
    "         EarlyStoppAveraged(monitor='loss', av_epochs=hp['av_epochs'],\n",
    "                                          restore_best_weights=True,\n",
    "                                          patience=hp['patience'],\n",
    "                            min_delta=10**-4)])\n",
    "    callbacks.set_model(model)\n",
    "    \n",
    "    #initialize weights\n",
    "    if hp['celltype'] == 'GRU':\n",
    "        yt = model(np.ones((1, hp['lag'] + 1, 2)))\n",
    "    elif hp['celltype'] == 'FNN':\n",
    "        yt = model(feat_gru)\n",
    "    \n",
    "    # training\n",
    "    hist_ptr = model.fit(x=feat_gru, y=target_gru,\n",
    "                           batch_size=len(target_gru),\n",
    "                           epochs=hp['max_epochs'], verbose=0,\n",
    "                           callbacks=callbacks)\n",
    "\n",
    "    ptr_weights = model.get_weights()\n",
    "\n",
    "\n",
    "    # now model without dropout, but with GN\n",
    "    if hp['celltype'] == 'GRU':\n",
    "        model = buildrnn(cell=cell, hp=hpx)\n",
    "    if hp['celltype'] == 'FNN':\n",
    "        model = buildNARX(hp=hpx)\n",
    "\n",
    "    # opt params\n",
    "    lr_schedule = tf.keras.optimizers.schedules.ExponentialDecay(\n",
    "        initial_learning_rate=hp['lr_ft'],\n",
    "        decay_steps=1800,\n",
    "        decay_rate=0.8)\n",
    "    optimizer = tf.keras.optimizers.Adam(learning_rate=lr_schedule)\n",
    "    # loss should be MSE_missing\n",
    "    loss_fn = Combined_loss([err_func(),\n",
    "                             smoothing(k=int(hp['k']), c=hp['c'])])\n",
    "    model.compile(optimizer=optimizer, loss=loss_fn)\n",
    "    \n",
    "    # call for initialization\n",
    "    if hp['celltype'] == 'GRU':\n",
    "        yt = model(np.ones((1, hp['lag'] + 1, 2)))\n",
    "    elif hp['celltype'] == 'FNN':\n",
    "        yt = model(feat_gru)\n",
    "\n",
    "    model.set_weights(ptr_weights)\n",
    "    model.stop_training = False\n",
    "\n",
    "    callbacks = tf.keras.callbacks.CallbackList(\n",
    "        [tf.keras.callbacks.History(),\n",
    "         EarlyStoppAveraged(monitor='loss',\n",
    "                            av_epochs=hp['av_epochs'],\n",
    "                            restore_best_weights=True,\n",
    "                            patience=hp['patience'], min_delta=10**-5)])\n",
    "    callbacks.set_model(model)\n",
    "\n",
    "    hist = model.fit(x=feat_gru, y=target_gru,\n",
    "                     batch_size=len(target_gru),\n",
    "                     epochs=hp['max_epochs'], verbose=0,\n",
    "                     callbacks=callbacks)"
   ],
   "outputs": [],
   "execution_count": 43
  },
  {
   "cell_type": "markdown",
   "id": "384ab8aa-dc31-4efd-95c1-75396366e2e5",
   "metadata": {},
   "source": [
    "# Comparison"
   ]
  },
  {
   "cell_type": "markdown",
   "id": "c7a525fe-ac77-41ea-b99a-59890f5e383e",
   "metadata": {},
   "source": [
    "## get NARX model prediction and scale back"
   ]
  },
  {
   "cell_type": "code",
   "id": "d7cc5089-9dd5-4ffd-91bc-f989c453d329",
   "metadata": {
    "ExecuteTime": {
     "end_time": "2024-09-03T14:05:43.561201Z",
     "start_time": "2024-09-03T14:05:43.320636Z"
    }
   },
   "source": [
    "yhat = model(test_gru).numpy().flatten()"
   ],
   "outputs": [],
   "execution_count": 44
  },
  {
   "cell_type": "code",
   "id": "7a5b6cb9-b174-4008-9d1d-21dc690824f5",
   "metadata": {},
   "source": [
    "# scale back to original\n",
    "ynoc = log_transformer.inverse_transform(\n",
    "    scalery_gen.inverse_transform(yhat.reshape(-1, 1))).flatten()"
   ],
   "outputs": [],
   "execution_count": 45
  },
  {
   "cell_type": "code",
   "id": "b2e7594f-6ba9-48ec-a340-6017fa636cab",
   "metadata": {
    "ExecuteTime": {
     "end_time": "2024-09-03T14:05:43.640554Z",
     "start_time": "2024-09-03T14:05:43.639224Z"
    }
   },
   "source": [
    "# log scales for metric\n",
    "ylog = scalery_gen.inverse_transform(yhat.reshape(-1, 1)).flatten()"
   ],
   "outputs": [],
   "execution_count": 46
  },
  {
   "cell_type": "code",
   "id": "e3efd670-35bb-4997-9475-fb8225e5fe2f",
   "metadata": {
    "ExecuteTime": {
     "end_time": "2024-09-03T14:05:43.687021Z",
     "start_time": "2024-09-03T14:05:43.685726Z"
    }
   },
   "source": [
    "# check if full TS was fitted\n",
    "if hp['cycle'] >= df_p['CYCLE'].max():\n",
    "    # full time series fit, set whole time series for evaluation\n",
    "    l = 0\n",
    "    y_arrlog = log_transformer.transform(y_arr.reshape(-1,\n",
    "                                                       1)).flatten()\n",
    "    y_testlog = np.nan * np.ones(len(yhat))\n",
    "    y_testlog[t_arr] = y_arrlog"
   ],
   "outputs": [],
   "execution_count": 47
  },
  {
   "cell_type": "markdown",
   "id": "f16eb0bf-9515-41da-8004-f69663f0baec",
   "metadata": {},
   "source": [
    "## get friberg fit and scale"
   ]
  },
  {
   "cell_type": "code",
   "id": "42c8135e-c9b0-4988-865f-6d5e8945b3f0",
   "metadata": {
    "ExecuteTime": {
     "end_time": "2024-09-03T14:05:43.730482Z",
     "start_time": "2024-09-03T14:05:43.728833Z"
    }
   },
   "source": [
    "y_fri_log = log_transformer.transform(\n",
    "y_fri.reshape(-1, 1)).flatten()\n",
    "\n",
    "y_sc = scalery_gen.transform(log_transformer.transform(\n",
    "y_arr.reshape(-1,1))).flatten()\n",
    "\n",
    "y_fri_sc = scalery_gen.transform(log_transformer.transform(\n",
    "y_fri.reshape(-1,1))).flatten()"
   ],
   "outputs": [],
   "execution_count": 48
  },
  {
   "cell_type": "markdown",
   "id": "326120fc-b452-4e20-97e4-1265dc29b651",
   "metadata": {},
   "source": [
    "## get metrics"
   ]
  },
  {
   "cell_type": "code",
   "id": "ed85314c-7a13-41af-aa13-bd7f6580f838",
   "metadata": {},
   "source": [
    "smsem = Step_MSE_missing(s=hp['s'])"
   ],
   "outputs": [],
   "execution_count": 49
  },
  {
   "cell_type": "code",
   "id": "69d3db90-6546-4766-9f20-494bdad43511",
   "metadata": {
    "ExecuteTime": {
     "end_time": "2024-09-03T14:05:43.845489Z",
     "start_time": "2024-09-03T14:05:43.818460Z"
    }
   },
   "source": [
    "# NARX model metric\n",
    "smse_narx = smsem(y_pred=ylog[l:],\n",
    "                        y_true=y_testlog).numpy()"
   ],
   "outputs": [],
   "execution_count": 50
  },
  {
   "cell_type": "code",
   "id": "3acc161d-d2b7-4662-b3d1-c127a26d8697",
   "metadata": {
    "ExecuteTime": {
     "end_time": "2024-09-03T14:05:43.902543Z",
     "start_time": "2024-09-03T14:05:43.894448Z"
    }
   },
   "source": [
    "# friberg metric\n",
    "smse_fri = smsem(y_pred=y_fri_log[l:],\n",
    "             y_true=y_testlog).numpy()"
   ],
   "outputs": [],
   "execution_count": 51
  },
  {
   "cell_type": "code",
   "id": "cc28495a-ed35-4955-9ceb-ddb5b031faf2",
   "metadata": {},
   "source": [
    "smse_narx, smse_fri"
   ],
   "outputs": [
    {
     "data": {
      "text/plain": [
       "(0.013604221, 0.038475465)"
      ]
     },
     "execution_count": 52,
     "metadata": {},
     "output_type": "execute_result"
    }
   ],
   "execution_count": 52
  },
  {
   "cell_type": "markdown",
   "id": "52dce07f-cac2-40c9-94eb-2990168c43cd",
   "metadata": {},
   "source": [
    "## Comparison plot"
   ]
  },
  {
   "cell_type": "code",
   "id": "8b298da1-b121-48df-be93-30ce2153bbb9",
   "metadata": {
    "ExecuteTime": {
     "end_time": "2024-09-03T14:05:44.155739Z",
     "start_time": "2024-09-03T14:05:44.156450Z"
    }
   },
   "source": [
    "plt.plot(t_arr, y_arr, ls='', marker='o', c='k', label='observed')\n",
    "plt.plot(t, y_fri, ls='-', label='Friberg')\n",
    "plt.plot(t, ynoc, label='ARX-GRU')\n",
    "plt.axvline(l, c='k', ls='--', label='train-split')\n",
    "plt.grid(True)\n",
    "plt.legend()"
   ],
   "outputs": [
    {
     "data": {
      "text/plain": [
       "<matplotlib.legend.Legend at 0x7fe06c8efca0>"
      ]
     },
     "execution_count": 53,
     "metadata": {},
     "output_type": "execute_result"
    },
    {
     "data": {
      "image/png": "[encoded data removed]",
      "text/plain": [
       "<Figure size 432x288 with 1 Axes>"
      ]
     },
     "metadata": {
      "needs_background": "light"
     },
     "output_type": "display_data"
    }
   ],
   "execution_count": 53
  }
 ],
 "metadata": {
  "kernelspec": {
   "display_name": "Python 3.9 (XPython)",
   "language": "python",
   "name": "xpython"
  },
  "language_info": {
   "file_extension": ".py",
   "mimetype": "text/x-python",
   "name": "python",
   "version": "3.9.7"
  },
  "toc-autonumbering": true
 },
 "nbformat": 4,
 "nbformat_minor": 5
}
